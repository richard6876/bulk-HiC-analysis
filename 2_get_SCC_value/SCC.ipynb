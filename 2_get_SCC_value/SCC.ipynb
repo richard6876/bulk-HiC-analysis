{
 "cells": [
  {
   "cell_type": "code",
   "execution_count": null,
   "id": "6c8dadd4",
   "metadata": {},
   "outputs": [],
   "source": [
    "# Using hicrep to calculate the SCC value of Huh7 Hi-C data, which is a metric used to assess the reproducibility of replication data."
   ]
  },
  {
   "cell_type": "code",
   "execution_count": 6,
   "id": "1f354bb3",
   "metadata": {},
   "outputs": [],
   "source": [
    "from hicrep.utils import readMcool\n",
    "import numpy as np\n",
    "import matplotlib.pyplot as plt\n",
    "import os,sys\n",
    "from hicrep import hicrepSCC"
   ]
  },
  {
   "cell_type": "code",
   "execution_count": 3,
   "id": "18a66fe5",
   "metadata": {
    "collapsed": true
   },
   "outputs": [
    {
     "name": "stderr",
     "output_type": "stream",
     "text": [
      "INFO:hicexplorer.hicConvertFormat:Converting with hic2cool.\n",
      "!!! WARNING. No normalization vectors found in the hic file.\n"
     ]
    },
    {
     "name": "stdout",
     "output_type": "stream",
     "text": [
      "##########################\n",
      "### hic2cool / convert ###\n",
      "##########################\n",
      "### Header info from hic\n",
      "... Chromosomes:  ['All', 'chr1', 'chr2', 'chr3', 'chr4', 'chr5', 'chr6', 'chr7', 'chr8', 'chr9', 'chr10', 'chr11', 'chr12', 'chr13', 'chr14', 'chr15', 'chr16', 'chr17', 'chr18', 'chr19', 'chr20', 'chr21', 'chr22', 'chrX', 'chrM', 'NC_045512v2']\n",
      "... Resolutions:  [2500000, 1000000, 500000, 250000, 100000, 50000, 25000, 10000, 5000, 1000]\n",
      "... Normalizations:  []\n",
      "... Genome:  /xtdisk/zhangzhh_group/baixue/SARS-CoV-2/Hi-C/reference/T2T-CoV2.GenomeSize.txt\n",
      "### Converting\n",
      "... Resolution 100000 took: 384.71149158477783 seconds.\n",
      "### Finished! Output written to: ./LQL220125-7/inter_100000.cool\n",
      "... This file is single resolution and NOT higlass compatible. Run with `-r 0` for multi-resolution.\n"
     ]
    },
    {
     "name": "stderr",
     "output_type": "stream",
     "text": [
      "INFO:hicexplorer.hicConvertFormat:Converting with hic2cool.\n",
      "!!! WARNING. No normalization vectors found in the hic file.\n"
     ]
    },
    {
     "name": "stdout",
     "output_type": "stream",
     "text": [
      "##########################\n",
      "### hic2cool / convert ###\n",
      "##########################\n",
      "### Header info from hic\n",
      "... Chromosomes:  ['All', 'chr1', 'chr2', 'chr3', 'chr4', 'chr5', 'chr6', 'chr7', 'chr8', 'chr9', 'chr10', 'chr11', 'chr12', 'chr13', 'chr14', 'chr15', 'chr16', 'chr17', 'chr18', 'chr19', 'chr20', 'chr21', 'chr22', 'chrX', 'chrM', 'NC_045512v2']\n",
      "... Resolutions:  [2500000, 1000000, 500000, 250000, 100000, 50000, 25000, 10000, 5000, 1000]\n",
      "... Normalizations:  []\n",
      "... Genome:  /pnas/yangyg_group/zhoujy/cov2/HiC/juicer/reference/T2T-CoV2.GenomeSize.txt\n",
      "### Converting\n",
      "... Resolution 100000 took: 356.1174941062927 seconds.\n",
      "### Finished! Output written to: ./LQL220417-17/inter_100000.cool\n",
      "... This file is single resolution and NOT higlass compatible. Run with `-r 0` for multi-resolution.\n"
     ]
    },
    {
     "name": "stderr",
     "output_type": "stream",
     "text": [
      "INFO:hicexplorer.hicConvertFormat:Converting with hic2cool.\n",
      "!!! WARNING. No normalization vectors found in the hic file.\n"
     ]
    },
    {
     "name": "stdout",
     "output_type": "stream",
     "text": [
      "##########################\n",
      "### hic2cool / convert ###\n",
      "##########################\n",
      "### Header info from hic\n",
      "... Chromosomes:  ['All', 'chr1', 'chr2', 'chr3', 'chr4', 'chr5', 'chr6', 'chr7', 'chr8', 'chr9', 'chr10', 'chr11', 'chr12', 'chr13', 'chr14', 'chr15', 'chr16', 'chr17', 'chr18', 'chr19', 'chr20', 'chr21', 'chr22', 'chrX', 'chrM', 'NC_045512v2']\n",
      "... Resolutions:  [2500000, 1000000, 500000, 250000, 100000, 50000, 25000, 10000, 5000, 1000]\n",
      "... Normalizations:  []\n",
      "... Genome:  /xtdisk/zhangzhh_group/baixue/SARS-CoV-2/Hi-C/reference/T2T-CoV2.GenomeSize.txt\n",
      "### Converting\n",
      "... Resolution 100000 took: 408.768762588501 seconds.\n",
      "### Finished! Output written to: ./LQL220125-8/inter_100000.cool\n",
      "... This file is single resolution and NOT higlass compatible. Run with `-r 0` for multi-resolution.\n"
     ]
    },
    {
     "name": "stderr",
     "output_type": "stream",
     "text": [
      "INFO:hicexplorer.hicConvertFormat:Converting with hic2cool.\n",
      "!!! WARNING. No normalization vectors found in the hic file.\n"
     ]
    },
    {
     "name": "stdout",
     "output_type": "stream",
     "text": [
      "##########################\n",
      "### hic2cool / convert ###\n",
      "##########################\n",
      "### Header info from hic\n",
      "... Chromosomes:  ['All', 'chr1', 'chr2', 'chr3', 'chr4', 'chr5', 'chr6', 'chr7', 'chr8', 'chr9', 'chr10', 'chr11', 'chr12', 'chr13', 'chr14', 'chr15', 'chr16', 'chr17', 'chr18', 'chr19', 'chr20', 'chr21', 'chr22', 'chrX', 'chrM', 'NC_045512v2']\n",
      "... Resolutions:  [2500000, 1000000, 500000, 250000, 100000, 50000, 25000, 10000, 5000, 1000]\n",
      "... Normalizations:  []\n",
      "... Genome:  /pnas/yangyg_group/zhoujy/cov2/HiC/juicer/reference/T2T-CoV2.GenomeSize.txt\n",
      "### Converting\n",
      "... Resolution 100000 took: 348.04958748817444 seconds.\n",
      "### Finished! Output written to: ./LQL220417-17/inter_100000.cool\n",
      "... This file is single resolution and NOT higlass compatible. Run with `-r 0` for multi-resolution.\n"
     ]
    }
   ],
   "source": [
    "#transform from *.hic to *.cool file\n",
    "file_list=[\"LQL220125-7\",\"LQL220417-17\",\"LQL220125-8\",\"LQL220417-17\"]\n",
    "resolution=\"100000\"\n",
    "\n",
    "# hicConvertFormat is a function of HiCExplorer(https://github.com/deeptools/HiCExplorer)\n",
    "for file_name in file_list:\n",
    "    os.system(\"hicConvertFormat -m ./%s/inter.hic --inputFormat hic --outputFormat cool -o ./%s/inter.cool --resolutions %s \"%(file_name,file_name,resolution))\n"
   ]
  },
  {
   "cell_type": "code",
   "execution_count": 4,
   "id": "7aec33e4",
   "metadata": {},
   "outputs": [],
   "source": [
    "# get SCC value and draw the results\n",
    "def get_SCC(file1,file2,resolution,h,dBPMax,title):\n",
    "    \n",
    "    '''\n",
    "    :param file1:  hic data replication 1 \n",
    "    :param file2:  hic data replication 2 \n",
    "    :param resolution:  resolution of the hic data\n",
    "    :param h:   smoothing window half-size\n",
    "    :param dBPMax:   maximal genomic distance to include in the calculation\n",
    "    :param title:   title of the results picture\n",
    "    :return:   picture of the result\n",
    "    '''\n",
    "    fcool1 = \"./\"+file1+\"/inter_\"+resolution+\".cool\"\n",
    "    fcool2 = \"./\"+file2+\"/inter_\"+resolution+\".cool\"\n",
    "    cool1, binSize1 = readMcool(fcool1, -1)\n",
    "    cool2, binSize2 = readMcool(fcool2, -1)\n",
    "    bDownSample = False # don't perform down-sampling \n",
    "    \n",
    "    sccSub = hicrepSCC(cool1, cool2, h, dBPMax, bDownSample, np.array(['chr1', 'chr2', 'chr3', 'chr4', \\\n",
    "                                                                       'chr5', 'chr6', 'chr7', 'chr8', \\\n",
    "                                                                       'chr9', 'chr10', 'chr11', 'chr12', \\\n",
    "                                                                       'chr13', 'chr14', 'chr15', 'chr16', \\\n",
    "                                                                       'chr17', 'chr18', 'chr19', 'chr20', \\\n",
    "                                                                       'chr21', 'chr22', 'chrX'], dtype=str))\n",
    "\n",
    "    chr_list=['1','2','3','4','5','6','7','8','9','10','11','12','13','14','15','16','17','18','19','20','21','22','X'] \n",
    "    print(sccSub)\n",
    "    plt.figure(figsize=(5,2))\n",
    "    plt.bar(chr_list,sccSub)\n",
    "    plt.title(title)\n",
    "    plt.ylabel(\"SCC\")"
   ]
  },
  {
   "cell_type": "code",
   "execution_count": 7,
   "id": "90cea8c1",
   "metadata": {},
   "outputs": [
    {
     "name": "stdout",
     "output_type": "stream",
     "text": [
      "[0.91774557 0.90790363 0.96385096 0.94020237 0.90500915 0.90657826\n",
      " 0.93093641 0.90885672 0.92801652 0.93523595 0.97674422 0.89667756\n",
      " 0.86825116 0.90875334 0.96058123 0.92292652 0.92684607 0.93810209\n",
      " 0.93648846 0.93471565 0.89295815 0.93567581 0.8687022 ]\n"
     ]
    },
    {
     "data": {
      "image/png": "[encoded data removed]",
      "text/plain": [
       "<Figure size 500x200 with 1 Axes>"
      ]
     },
     "metadata": {},
     "output_type": "display_data"
    }
   ],
   "source": [
    "file1=\"LQL220125-7\" # huh7 0h hic rep1\n",
    "file2=\"LQL220417-17\" # huh7 0h hic rep2\n",
    "resolution=\"100000\"\n",
    "h=0\n",
    "dBPMax=8000000\n",
    "title=\"Huh7_0h_100K\"\n",
    "get_SCC(file1,file2,resolution,h,dBPMax,title)\n",
    "plt.savefig(\"/home/wanghy/Calu3_HIC/final_data/figS5A-1.pdf\", format='pdf', dpi=1000, transparent=False, bbox_inches=None, pad_inches=0.1)"
   ]
  },
  {
   "cell_type": "code",
   "execution_count": 8,
   "id": "b80ae6e2",
   "metadata": {},
   "outputs": [
    {
     "name": "stdout",
     "output_type": "stream",
     "text": [
      "[0.91180191 0.90921953 0.96434476 0.94347603 0.90957288 0.90195537\n",
      " 0.92687417 0.90799768 0.9280389  0.93327292 0.9779499  0.88936935\n",
      " 0.86860094 0.90772424 0.9562112  0.926588   0.92418761 0.93999619\n",
      " 0.93336883 0.93335561 0.89024887 0.93007408 0.86385367]\n"
     ]
    },
    {
     "data": {
      "image/png": "[encoded data removed]",
      "text/plain": [
       "<Figure size 500x200 with 1 Axes>"
      ]
     },
     "metadata": {},
     "output_type": "display_data"
    }
   ],
   "source": [
    "file1=\"LQL220125-8\"# huh7 48h hic rep1\n",
    "file2=\"LQL220417-18\"# huh7 48h hic rep2\n",
    "resolution=\"100000\"\n",
    "h=0\n",
    "dBPMax=8000000\n",
    "title=\"Huh7_48h_100K\"\n",
    "get_SCC(file1,file2,resolution,h,dBPMax,title)\n",
    "plt.savefig(\"/home/wanghy/Calu3_HIC/final_data/figS5A-2.pdf\", format='pdf', dpi=1000, transparent=False, bbox_inches=None, pad_inches=0.1)"
   ]
  },
  {
   "cell_type": "code",
   "execution_count": null,
   "id": "9c30b832",
   "metadata": {},
   "outputs": [],
   "source": []
  }
 ],
 "metadata": {
  "kernelspec": {
   "display_name": "Python 3",
   "language": "python",
   "name": "python2"
  },
  "language_info": {
   "codemirror_mode": {
    "name": "ipython",
    "version": 3
   },
   "file_extension": ".py",
   "mimetype": "text/x-python",
   "name": "python",
   "nbconvert_exporter": "python",
   "pygments_lexer": "ipython3",
   "version": "3.8.13"
  }
 },
 "nbformat": 4,
 "nbformat_minor": 5
}
