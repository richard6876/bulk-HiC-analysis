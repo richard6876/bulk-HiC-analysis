{
 "cells": [
  {
   "cell_type": "code",
   "execution_count": 60,
   "metadata": {},
   "outputs": [],
   "source": [
    "import math\n",
    "import numpy as np"
   ]
  },
  {
   "cell_type": "code",
   "execution_count": 61,
   "metadata": {},
   "outputs": [],
   "source": [
    "# read bed file\n",
    "def read_bedfile(bedfile):\n",
    "    '''\n",
    "    :param bedfile:  name of bed file  \n",
    "    :return ls:   list in the bed file\n",
    "    '''\n",
    "    f=open(bedfile,\"r\")#\"./SC-2F-N503702-18C_40000_abs.bed\"\n",
    "    ls=[]\n",
    "    for line in f:\n",
    "        x=line.strip('\\n').split('\\t')\n",
    "        ls.append(x)\n",
    "        \n",
    "    f.close()\n",
    "    return ls"
   ]
  },
  {
   "cell_type": "code",
   "execution_count": 62,
   "metadata": {},
   "outputs": [],
   "source": [
    "# read contact file of hicpro output \n",
    "def read_contactfile(matrixfile):\n",
    "    '''\n",
    "    :param matrixfile:  name of hicpro output  \n",
    "    :return ls:   contact information list\n",
    "    '''\n",
    "    f=open(matrixfile,\"r\")#\"./SC-2F-N503702-18C_40000.matrix\"\n",
    "    ls=[]\n",
    "    for line in f:\n",
    "        x=line.strip('\\n').split('\\t')\n",
    "        x[2]=str(float(x[2]))\n",
    "        ls.append(x)\n",
    "        \n",
    "    f.close()\n",
    "    return ls"
   ]
  },
  {
   "cell_type": "code",
   "execution_count": 64,
   "metadata": {},
   "outputs": [],
   "source": [
    "#read chromosome size file  \n",
    "def get_chrom_size_dict(filename):\n",
    "    '''\n",
    "    :param matrixfile:  name of chromosome size file   \n",
    "    :return d:   chromosome size dict\n",
    "    '''\n",
    "    f=open(filename,\"r\")\n",
    "    ls=[]\n",
    "    for line in f:\n",
    "        ls.append(line.strip('\\n').split('\\t'))\n",
    "    f.close()\n",
    "    d=dict()\n",
    "    for line in ls:\n",
    "        d[line[0]] = line[1]\n",
    "    return d"
   ]
  },
  {
   "cell_type": "code",
   "execution_count": 77,
   "metadata": {},
   "outputs": [],
   "source": [
    "# get contact information per chromosome \n",
    "def get_chr_contact(chr_name,contact_list,bin_index_list):\n",
    "    '''\n",
    "    :param chr_name:  name of chromosome\n",
    "    :param contact_list:  name of contact matrix file \n",
    "    :param bin_index_list:  the interaction start and end coordinates for each chromosome in the contact matrix file     \n",
    "    :return chr_contact_list:   chromosome contact list\n",
    "    '''    \n",
    "    chr_contact_list=[]\n",
    "    if chr_name==\"X\":\n",
    "        index=18\n",
    "    elif chr_name==\"Y\":\n",
    "        index=19\n",
    "    elif chr_name==\"MT\":\n",
    "        index=20\n",
    "    else:\n",
    "        index=eval(chr_name)-1\n",
    "        \n",
    "    start=bin_index_list[index]\n",
    "    end=bin_index_list[index+1]\n",
    "    for item in contact_list:\n",
    "        if eval(item[0])>=start and eval(item[0])<end and eval(item[1])>=start and eval(item[1])<end :\n",
    "            chr_contact_list.append(item)\n",
    "    return chr_contact_list"
   ]
  },
  {
   "cell_type": "code",
   "execution_count": 67,
   "metadata": {},
   "outputs": [],
   "source": [
    "# get contact matrix that suits for deDoc2\n",
    "def get_contact_matrix(chr_contact_list,chr_name,binsize):\n",
    "    '''\n",
    "    :param chr_contact_list:  chromosome contact list\n",
    "    :param chr_name:  name of chromosome\n",
    "    :param binsize:  resolution\n",
    "    :return contact_matrix:   contact matrix that suits for deDoc2\n",
    "    '''       \n",
    "    chr_size_dict=get_chrom_size_dict('./Sus_scrofa.chrom.sizes')\n",
    "    chr_size=chr_size_dict[chr_name]\n",
    "    bin_num=math.ceil(eval(chr_size)/eval(binsize))\n",
    "    contact_matrix=np.zeros((bin_num,bin_num), dtype=int)\n",
    "\n",
    "    for line in chr_contact_list:\n",
    "        x_bin=eval(line[0])\n",
    "        y_bin=eval(line[1])\n",
    "        c=eval(line[2])\n",
    "        contact_matrix[x_bin-1,y_bin-1]+=c \n",
    "        contact_matrix[y_bin-1,x_bin-1]+=c\n",
    "    return contact_matrix"
   ]
  },
  {
   "cell_type": "code",
   "execution_count": null,
   "metadata": {},
   "outputs": [],
   "source": [
    "# generate input case"
   ]
  },
  {
   "cell_type": "code",
   "execution_count": 68,
   "metadata": {},
   "outputs": [],
   "source": [
    "#get chr_list\n",
    "chr_size_dict=get_chrom_size_dict('./Sus_scrofa.chrom.sizes')\n",
    "chr_list=list(chr_size_dict.keys())"
   ]
  },
  {
   "cell_type": "code",
   "execution_count": 70,
   "metadata": {},
   "outputs": [],
   "source": [
    "# get bin_index_list\n",
    "a=0\n",
    "bin_index_list=[1]\n",
    "binsize=\"40000\"\n",
    "for chr_name in chr_list:\n",
    "    chr_size=chr_size_dict[chr_name]\n",
    "    bin_num=math.ceil(eval(chr_size)/eval(binsize))\n",
    "    a+=bin_num\n",
    "    bin_index_list.append(a+1)"
   ]
  },
  {
   "cell_type": "code",
   "execution_count": 79,
   "metadata": {},
   "outputs": [],
   "source": [
    "#get contact_list\n",
    "contact_list=read_contactfile(\"/home/zhengsq/SC_hic_pig/20220401/clean_results/hic_results/matrix/4c-15/raw/40000/4c-15_40000.matrix\")"
   ]
  },
  {
   "cell_type": "code",
   "execution_count": 80,
   "metadata": {
    "scrolled": true
   },
   "outputs": [],
   "source": [
    "#Chromosome 1 input file generation\n",
    "chr_name=\"1\"#The chromosome name should be the same as the chr_list above\n",
    "binsize=\"40000\"\n",
    "\n",
    "filename='./contact_matrix_chr'+chr_name+'.txt'\n",
    "chr_contact_list=get_chr_contact(chr_name,contact_list,bin_index_list)\n",
    "contact_matrix=get_contact_matrix(chr_contact_list,chr_name,binsize)\n",
    "np.savetxt(filename,contact_matrix,delimiter=\"\\t\")"
   ]
  },
  {
   "cell_type": "code",
   "execution_count": null,
   "metadata": {},
   "outputs": [],
   "source": [
    "#deDoc2\n",
    "#deDoc2 can call TAD from both bulk cell and single cell data \n",
    "#/home/wanghy/software/deDoc2/deDoc2-main/deDoc2.jar\n",
    "#github\n",
    "#https://github.com/zengguangjie/deDoc2\n",
    "#40k resolution command：\n",
    "#java -jar deDoc2.jar -inputfile XXXX -binsize 40 -outputfile XXXX"
   ]
  },
  {
   "cell_type": "code",
   "execution_count": 56,
   "metadata": {},
   "outputs": [
    {
     "name": "stdout",
     "output_type": "stream",
     "text": [
      "reading input data...\n",
      "predicting TLDs...\n"
     ]
    },
    {
     "data": {
      "text/plain": [
       "0"
      ]
     },
     "execution_count": 56,
     "metadata": {},
     "output_type": "execute_result"
    }
   ],
   "source": [
    "import os\n",
    "os.system(\"java -jar /home/wanghy/software/deDoc2/deDoc2-main/deDoc2.jar -inputfile contact_matrix_chr1.txt -binsize 40  -outputfile ./chr1\")"
   ]
  },
  {
   "cell_type": "code",
   "execution_count": null,
   "metadata": {},
   "outputs": [],
   "source": []
  }
 ],
 "metadata": {
  "kernelspec": {
   "display_name": "Python 3 (ipykernel)",
   "language": "python",
   "name": "python3"
  },
  "language_info": {
   "codemirror_mode": {
    "name": "ipython",
    "version": 3
   },
   "file_extension": ".py",
   "mimetype": "text/x-python",
   "name": "python",
   "nbconvert_exporter": "python",
   "pygments_lexer": "ipython3",
   "version": "3.8.13"
  }
 },
 "nbformat": 4,
 "nbformat_minor": 4
}
