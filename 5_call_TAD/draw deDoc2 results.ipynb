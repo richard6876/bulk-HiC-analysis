{
 "cells": [
  {
   "cell_type": "code",
   "execution_count": 1,
   "metadata": {},
   "outputs": [],
   "source": [
    "import numpy as np\n",
    "import matplotlib.pyplot as plt\n",
    "import math\n",
    "import matplotlib"
   ]
  },
  {
   "cell_type": "code",
   "execution_count": 4,
   "metadata": {},
   "outputs": [],
   "source": [
    "#Read the TAD file and generate a list of TAD intervals\n",
    "def read_TADfile_2(file):\n",
    "    '''\n",
    "    :param bedfile:  name of bed file  \n",
    "    :return ls:   list in the bed file\n",
    "    '''\n",
    "    f=open(file,\"r\")\n",
    "    ls_3=[]\n",
    "    #filename=filename.split('.')\n",
    "    for line in f:\n",
    "        x=line.strip('\\n').split(' ')\n",
    "        #print(len(x))\n",
    "        if len(x)!=2:\n",
    "            #x1=40000*(eval(x[0])-1)\n",
    "            #x2=40000*eval(x[-2])\n",
    "            ls_3.append([x[0],x[-2]])\n",
    "    return ls_3"
   ]
  },
  {
   "cell_type": "code",
   "execution_count": 5,
   "metadata": {},
   "outputs": [],
   "source": [
    "# draw the TAD rusults\n",
    "def draw_heatmap_hierarchical(contact_matrix, TADlist, sub_TADlist, outputfilename):\n",
    "    '''\n",
    "    :param contact_matrix:  name of contact matrix file \n",
    "    :param TADlist:  name of TAD file\n",
    "    :param sub_TADlist:  name of sub_TAD file\n",
    "    :param outputfilename:  name of TAD results picture   \n",
    "    :return :   TAD results picture\n",
    "    '''    \n",
    "    mtx = np.loadtxt(contact_matrix)\n",
    "    mtx = mtx - np.diag(np.diag(mtx))\n",
    "    for i in range(mtx.shape[0]):\n",
    "        for j in range(mtx.shape[1]):\n",
    "            mtx[i][j] = math.log2(mtx[i][j]+1)\n",
    "\n",
    "    partition = TADlist\n",
    "    sub_partition = sub_TADlist\n",
    "    \n",
    "    fig, ax = plt.subplots()\n",
    "    img = ax.imshow(mtx, cmap='Reds')\n",
    "    color1 = 'blue'\n",
    "    color2 = 'green'\n",
    "    linewidth = 0.03\n",
    "\n",
    "    for community in sub_partition:\n",
    "        ax.plot([eval(community[0]), eval(community[1])], [eval(community[0]), eval(community[0])], color=color2, linewidth=linewidth)\n",
    "        ax.plot([eval(community[1]), eval(community[1])], [eval(community[0]), eval(community[1])], color=color2, linewidth=linewidth)\n",
    "\n",
    "    for community in partition:\n",
    "        ax.plot([eval(community[0]), eval(community[1])], [eval(community[0]), eval(community[0])], color=color1, linewidth=linewidth)\n",
    "        ax.plot([eval(community[1]), eval(community[1])], [eval(community[0]), eval(community[1])], color=color1, linewidth=linewidth)\n",
    "\n",
    "    \n",
    "    line1 = matplotlib.lines.Line2D([], [], color=color1, label='RWR+deDoc')\n",
    "    line2 = matplotlib.lines.Line2D([], [], color=color2, label='RWR+deDocwindow')\n",
    "    ax.grid(False) \n",
    "    #line1 = mlines.Line2D([], [], color=color1, label='RWR+deDoc')\n",
    "    #line2 = mlines.Line2D([], [], color=color2, label='RWR+deDocwindow')\n",
    "    plt.legend(handles=[line1, line2])\n",
    "    plt.savefig(outputfilename,dpi=3000,bbox_inches='tight')"
   ]
  },
  {
   "cell_type": "code",
   "execution_count": 6,
   "metadata": {},
   "outputs": [],
   "source": [
    "TAD_file=\"./chr1.TAD\"\n",
    "sub_TAD_file=\"./chr1.window.TAD\"\n",
    "\n",
    "TADlist=read_TADfile_2(TAD_file)   \n",
    "sub_TADlist=read_TADfile_2(sub_TAD_file)\n",
    "\n",
    "contact_matrix='./contact_matrix_chr1.txt'"
   ]
  },
  {
   "cell_type": "code",
   "execution_count": 18,
   "metadata": {},
   "outputs": [
    {
     "data": {
      "image/png": "[encoded data removed]",
      "text/plain": [
       "<Figure size 432x288 with 1 Axes>"
      ]
     },
     "metadata": {
      "needs_background": "light"
     },
     "output_type": "display_data"
    }
   ],
   "source": [
    "outputfilename=\"chr1.deDoc2.jpg\"\n",
    "draw_heatmap_hierarchical(contact_matrix, TADlist, sub_TADlist, outputfilename)"
   ]
  },
  {
   "cell_type": "code",
   "execution_count": null,
   "metadata": {},
   "outputs": [],
   "source": []
  }
 ],
 "metadata": {
  "kernelspec": {
   "display_name": "Python 3 (ipykernel)",
   "language": "python",
   "name": "python3"
  },
  "language_info": {
   "codemirror_mode": {
    "name": "ipython",
    "version": 3
   },
   "file_extension": ".py",
   "mimetype": "text/x-python",
   "name": "python",
   "nbconvert_exporter": "python",
   "pygments_lexer": "ipython3",
   "version": "3.8.13"
  }
 },
 "nbformat": 4,
 "nbformat_minor": 4
}
